{
 "cells": [
  {
   "cell_type": "markdown",
   "metadata": {},
   "source": [
    "# Dummy Data & Top Products"
   ]
  },
  {
   "cell_type": "code",
   "execution_count": 1,
   "metadata": {},
   "outputs": [
    {
     "name": "stdout",
     "output_type": "stream",
     "text": [
      "Revenue by product and region:\n",
      "           region     product  amount\n",
      "0            Asia  Headphones   67565\n",
      "1            Asia      Laptop   63027\n",
      "2            Asia  Smartphone   69686\n",
      "3            Asia      Tablet   56902\n",
      "4          Europe  Headphones   51845\n",
      "5          Europe      Laptop   53434\n",
      "6          Europe  Smartphone   56784\n",
      "7          Europe      Tablet   66495\n",
      "8   North America  Headphones   74235\n",
      "9   North America      Laptop   57282\n",
      "10  North America  Smartphone   67436\n",
      "11  North America      Tablet   77427\n",
      "12  South America  Headphones   77370\n",
      "13  South America      Laptop   55242\n",
      "14  South America  Smartphone   62386\n",
      "15  South America      Tablet   63586\n",
      "\n",
      "Top products by region:\n",
      "          region     product  amount\n",
      "0           Asia  Smartphone   69686\n",
      "1         Europe      Tablet   66495\n",
      "2  North America      Tablet   77427\n",
      "3  South America  Headphones   77370\n"
     ]
    }
   ],
   "source": [
    "# Check parquet files\n",
    "import pandas as pd\n",
    "\n",
    "\n",
    "# Load revenue by product and region\n",
    "revenue_by_product_and_region = pd.read_parquet(\n",
    "    \"../data/revenue_by_product_and_region.parquet\"\n",
    ")\n",
    "print(\"Revenue by product and region:\")\n",
    "print(revenue_by_product_and_region)\n",
    "\n",
    "# Load top products by region\n",
    "top_products_by_region = pd.read_parquet(\"../data/top_products_by_region.parquet\")\n",
    "print(\"\\nTop products by region:\")\n",
    "print(top_products_by_region)"
   ]
  },
  {
   "cell_type": "code",
   "execution_count": null,
   "metadata": {},
   "outputs": [],
   "source": []
  }
 ],
 "metadata": {
  "kernelspec": {
   "display_name": "venv",
   "language": "python",
   "name": "python3"
  },
  "language_info": {
   "codemirror_mode": {
    "name": "ipython",
    "version": 3
   },
   "file_extension": ".py",
   "mimetype": "text/x-python",
   "name": "python",
   "nbconvert_exporter": "python",
   "pygments_lexer": "ipython3",
   "version": "3.9.5"
  }
 },
 "nbformat": 4,
 "nbformat_minor": 2
}
